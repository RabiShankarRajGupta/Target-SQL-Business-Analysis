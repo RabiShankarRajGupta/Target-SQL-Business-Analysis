{
 "cells": [
  {
   "cell_type": "code",
   "execution_count": 2,
   "id": "cfb01929",
   "metadata": {},
   "outputs": [],
   "source": [
    "import pandas as pd\n",
    "import numpy as np\n",
    "import matplotlib.pyplot as plt\n",
    "import seaborn as sns"
   ]
  },
  {
   "cell_type": "code",
   "execution_count": 3,
   "id": "ebb38cf0",
   "metadata": {
    "scrolled": true
   },
   "outputs": [
    {
     "data": {
      "text/html": [
       "<div>\n",
       "<style scoped>\n",
       "    .dataframe tbody tr th:only-of-type {\n",
       "        vertical-align: middle;\n",
       "    }\n",
       "\n",
       "    .dataframe tbody tr th {\n",
       "        vertical-align: top;\n",
       "    }\n",
       "\n",
       "    .dataframe thead th {\n",
       "        text-align: right;\n",
       "    }\n",
       "</style>\n",
       "<table border=\"1\" class=\"dataframe\">\n",
       "  <thead>\n",
       "    <tr style=\"text-align: right;\">\n",
       "      <th></th>\n",
       "      <th>show_id</th>\n",
       "      <th>type</th>\n",
       "      <th>title</th>\n",
       "      <th>director</th>\n",
       "      <th>cast</th>\n",
       "      <th>country</th>\n",
       "      <th>date_added</th>\n",
       "      <th>release_year</th>\n",
       "      <th>rating</th>\n",
       "      <th>duration</th>\n",
       "      <th>listed_in</th>\n",
       "      <th>description</th>\n",
       "    </tr>\n",
       "  </thead>\n",
       "  <tbody>\n",
       "    <tr>\n",
       "      <th>0</th>\n",
       "      <td>s1</td>\n",
       "      <td>Movie</td>\n",
       "      <td>Dick Johnson Is Dead</td>\n",
       "      <td>Kirsten Johnson</td>\n",
       "      <td>NaN</td>\n",
       "      <td>United States</td>\n",
       "      <td>September 25, 2021</td>\n",
       "      <td>2020</td>\n",
       "      <td>PG-13</td>\n",
       "      <td>90 min</td>\n",
       "      <td>Documentaries</td>\n",
       "      <td>As her father nears the end of his life, filmm...</td>\n",
       "    </tr>\n",
       "    <tr>\n",
       "      <th>1</th>\n",
       "      <td>s2</td>\n",
       "      <td>TV Show</td>\n",
       "      <td>Blood &amp; Water</td>\n",
       "      <td>NaN</td>\n",
       "      <td>Ama Qamata, Khosi Ngema, Gail Mabalane, Thaban...</td>\n",
       "      <td>South Africa</td>\n",
       "      <td>September 24, 2021</td>\n",
       "      <td>2021</td>\n",
       "      <td>TV-MA</td>\n",
       "      <td>2 Seasons</td>\n",
       "      <td>International TV Shows, TV Dramas, TV Mysteries</td>\n",
       "      <td>After crossing paths at a party, a Cape Town t...</td>\n",
       "    </tr>\n",
       "    <tr>\n",
       "      <th>2</th>\n",
       "      <td>s3</td>\n",
       "      <td>TV Show</td>\n",
       "      <td>Ganglands</td>\n",
       "      <td>Julien Leclercq</td>\n",
       "      <td>Sami Bouajila, Tracy Gotoas, Samuel Jouy, Nabi...</td>\n",
       "      <td>NaN</td>\n",
       "      <td>September 24, 2021</td>\n",
       "      <td>2021</td>\n",
       "      <td>TV-MA</td>\n",
       "      <td>1 Season</td>\n",
       "      <td>Crime TV Shows, International TV Shows, TV Act...</td>\n",
       "      <td>To protect his family from a powerful drug lor...</td>\n",
       "    </tr>\n",
       "    <tr>\n",
       "      <th>3</th>\n",
       "      <td>s4</td>\n",
       "      <td>TV Show</td>\n",
       "      <td>Jailbirds New Orleans</td>\n",
       "      <td>NaN</td>\n",
       "      <td>NaN</td>\n",
       "      <td>NaN</td>\n",
       "      <td>September 24, 2021</td>\n",
       "      <td>2021</td>\n",
       "      <td>TV-MA</td>\n",
       "      <td>1 Season</td>\n",
       "      <td>Docuseries, Reality TV</td>\n",
       "      <td>Feuds, flirtations and toilet talk go down amo...</td>\n",
       "    </tr>\n",
       "    <tr>\n",
       "      <th>4</th>\n",
       "      <td>s5</td>\n",
       "      <td>TV Show</td>\n",
       "      <td>Kota Factory</td>\n",
       "      <td>NaN</td>\n",
       "      <td>Mayur More, Jitendra Kumar, Ranjan Raj, Alam K...</td>\n",
       "      <td>India</td>\n",
       "      <td>September 24, 2021</td>\n",
       "      <td>2021</td>\n",
       "      <td>TV-MA</td>\n",
       "      <td>2 Seasons</td>\n",
       "      <td>International TV Shows, Romantic TV Shows, TV ...</td>\n",
       "      <td>In a city of coaching centers known to train I...</td>\n",
       "    </tr>\n",
       "  </tbody>\n",
       "</table>\n",
       "</div>"
      ],
      "text/plain": [
       "  show_id     type                  title         director  \\\n",
       "0      s1    Movie   Dick Johnson Is Dead  Kirsten Johnson   \n",
       "1      s2  TV Show          Blood & Water              NaN   \n",
       "2      s3  TV Show              Ganglands  Julien Leclercq   \n",
       "3      s4  TV Show  Jailbirds New Orleans              NaN   \n",
       "4      s5  TV Show           Kota Factory              NaN   \n",
       "\n",
       "                                                cast        country  \\\n",
       "0                                                NaN  United States   \n",
       "1  Ama Qamata, Khosi Ngema, Gail Mabalane, Thaban...   South Africa   \n",
       "2  Sami Bouajila, Tracy Gotoas, Samuel Jouy, Nabi...            NaN   \n",
       "3                                                NaN            NaN   \n",
       "4  Mayur More, Jitendra Kumar, Ranjan Raj, Alam K...          India   \n",
       "\n",
       "           date_added  release_year rating   duration  \\\n",
       "0  September 25, 2021          2020  PG-13     90 min   \n",
       "1  September 24, 2021          2021  TV-MA  2 Seasons   \n",
       "2  September 24, 2021          2021  TV-MA   1 Season   \n",
       "3  September 24, 2021          2021  TV-MA   1 Season   \n",
       "4  September 24, 2021          2021  TV-MA  2 Seasons   \n",
       "\n",
       "                                           listed_in  \\\n",
       "0                                      Documentaries   \n",
       "1    International TV Shows, TV Dramas, TV Mysteries   \n",
       "2  Crime TV Shows, International TV Shows, TV Act...   \n",
       "3                             Docuseries, Reality TV   \n",
       "4  International TV Shows, Romantic TV Shows, TV ...   \n",
       "\n",
       "                                         description  \n",
       "0  As her father nears the end of his life, filmm...  \n",
       "1  After crossing paths at a party, a Cape Town t...  \n",
       "2  To protect his family from a powerful drug lor...  \n",
       "3  Feuds, flirtations and toilet talk go down amo...  \n",
       "4  In a city of coaching centers known to train I...  "
      ]
     },
     "execution_count": 3,
     "metadata": {},
     "output_type": "execute_result"
    }
   ],
   "source": [
    "df=pd.read_csv(\"netflix.csv\")\n",
    "df.head()"
   ]
  },
  {
   "cell_type": "code",
   "execution_count": 4,
   "id": "c3a93b33",
   "metadata": {},
   "outputs": [
    {
     "data": {
      "text/plain": [
       "(8807, 12)"
      ]
     },
     "execution_count": 4,
     "metadata": {},
     "output_type": "execute_result"
    }
   ],
   "source": [
    "#length of data\n",
    "df.shape"
   ]
  },
  {
   "cell_type": "code",
   "execution_count": 5,
   "id": "baa1e7af",
   "metadata": {},
   "outputs": [
    {
     "data": {
      "text/plain": [
       "show_id         object\n",
       "type            object\n",
       "title           object\n",
       "director        object\n",
       "cast            object\n",
       "country         object\n",
       "date_added      object\n",
       "release_year     int64\n",
       "rating          object\n",
       "duration        object\n",
       "listed_in       object\n",
       "description     object\n",
       "dtype: object"
      ]
     },
     "execution_count": 5,
     "metadata": {},
     "output_type": "execute_result"
    }
   ],
   "source": [
    "#checking datatypes\n",
    "df.dtypes"
   ]
  },
  {
   "cell_type": "code",
   "execution_count": 6,
   "id": "84f5477c",
   "metadata": {},
   "outputs": [
    {
     "data": {
      "text/plain": [
       "show_id         8807\n",
       "type               2\n",
       "title           8807\n",
       "director        4528\n",
       "cast            7692\n",
       "country          748\n",
       "date_added      1767\n",
       "release_year      74\n",
       "rating            17\n",
       "duration         220\n",
       "listed_in        514\n",
       "description     8775\n",
       "dtype: int64"
      ]
     },
     "execution_count": 6,
     "metadata": {},
     "output_type": "execute_result"
    }
   ],
   "source": [
    "#number of unique values in our data\n",
    "df.nunique()"
   ]
  },
  {
   "cell_type": "code",
   "execution_count": 7,
   "id": "bedf6aca",
   "metadata": {},
   "outputs": [
    {
     "name": "stdout",
     "output_type": "stream",
     "text": [
      "<class 'pandas.core.frame.DataFrame'>\n",
      "RangeIndex: 8807 entries, 0 to 8806\n",
      "Data columns (total 12 columns):\n",
      " #   Column        Non-Null Count  Dtype \n",
      "---  ------        --------------  ----- \n",
      " 0   show_id       8807 non-null   object\n",
      " 1   type          8807 non-null   object\n",
      " 2   title         8807 non-null   object\n",
      " 3   director      6173 non-null   object\n",
      " 4   cast          7982 non-null   object\n",
      " 5   country       7976 non-null   object\n",
      " 6   date_added    8797 non-null   object\n",
      " 7   release_year  8807 non-null   int64 \n",
      " 8   rating        8803 non-null   object\n",
      " 9   duration      8804 non-null   object\n",
      " 10  listed_in     8807 non-null   object\n",
      " 11  description   8807 non-null   object\n",
      "dtypes: int64(1), object(11)\n",
      "memory usage: 825.8+ KB\n"
     ]
    }
   ],
   "source": [
    "df.info()"
   ]
  },
  {
   "cell_type": "code",
   "execution_count": 8,
   "id": "e936027f",
   "metadata": {},
   "outputs": [
    {
     "data": {
      "text/plain": [
       "director        2634\n",
       "country          831\n",
       "cast             825\n",
       "date_added        10\n",
       "rating             4\n",
       "duration           3\n",
       "show_id            0\n",
       "type               0\n",
       "title              0\n",
       "release_year       0\n",
       "listed_in          0\n",
       "description        0\n",
       "dtype: int64"
      ]
     },
     "execution_count": 8,
     "metadata": {},
     "output_type": "execute_result"
    }
   ],
   "source": [
    "#checking null values in every column of our data\n",
    "df.isnull().sum().sort_values(ascending=False)"
   ]
  },
  {
   "cell_type": "code",
   "execution_count": 9,
   "id": "3025a5ca",
   "metadata": {},
   "outputs": [
    {
     "data": {
      "text/plain": [
       "director        29.91\n",
       "country          9.44\n",
       "cast             9.37\n",
       "date_added       0.11\n",
       "rating           0.05\n",
       "duration         0.03\n",
       "show_id          0.00\n",
       "type             0.00\n",
       "title            0.00\n",
       "release_year     0.00\n",
       "listed_in        0.00\n",
       "description      0.00\n",
       "dtype: float64"
      ]
     },
     "execution_count": 9,
     "metadata": {},
     "output_type": "execute_result"
    }
   ],
   "source": [
    "#checking null values percentage in every column of our data\n",
    "round(df.isnull().sum()/df.shape[0]*100,2).sort_values(ascending=False)"
   ]
  },
  {
   "cell_type": "code",
   "execution_count": 10,
   "id": "635a589b",
   "metadata": {},
   "outputs": [
    {
     "data": {
      "text/html": [
       "<div>\n",
       "<style scoped>\n",
       "    .dataframe tbody tr th:only-of-type {\n",
       "        vertical-align: middle;\n",
       "    }\n",
       "\n",
       "    .dataframe tbody tr th {\n",
       "        vertical-align: top;\n",
       "    }\n",
       "\n",
       "    .dataframe thead th {\n",
       "        text-align: right;\n",
       "    }\n",
       "</style>\n",
       "<table border=\"1\" class=\"dataframe\">\n",
       "  <thead>\n",
       "    <tr style=\"text-align: right;\">\n",
       "      <th></th>\n",
       "      <th>title</th>\n",
       "      <th>director</th>\n",
       "    </tr>\n",
       "  </thead>\n",
       "  <tbody>\n",
       "    <tr>\n",
       "      <th>0</th>\n",
       "      <td>Dick Johnson Is Dead</td>\n",
       "      <td>Kirsten Johnson</td>\n",
       "    </tr>\n",
       "    <tr>\n",
       "      <th>1</th>\n",
       "      <td>Blood &amp; Water</td>\n",
       "      <td>nan</td>\n",
       "    </tr>\n",
       "    <tr>\n",
       "      <th>2</th>\n",
       "      <td>Ganglands</td>\n",
       "      <td>Julien Leclercq</td>\n",
       "    </tr>\n",
       "    <tr>\n",
       "      <th>3</th>\n",
       "      <td>Jailbirds New Orleans</td>\n",
       "      <td>nan</td>\n",
       "    </tr>\n",
       "    <tr>\n",
       "      <th>4</th>\n",
       "      <td>Kota Factory</td>\n",
       "      <td>nan</td>\n",
       "    </tr>\n",
       "  </tbody>\n",
       "</table>\n",
       "</div>"
      ],
      "text/plain": [
       "                   title         director\n",
       "0   Dick Johnson Is Dead  Kirsten Johnson\n",
       "1          Blood & Water              nan\n",
       "2              Ganglands  Julien Leclercq\n",
       "3  Jailbirds New Orleans              nan\n",
       "4           Kota Factory              nan"
      ]
     },
     "execution_count": 10,
     "metadata": {},
     "output_type": "execute_result"
    }
   ],
   "source": [
    "#unnesting the directors column, i.e- creating separate lines for each director in a movie\n",
    "constraint1=df['director'].apply(lambda x: str(x).split(', ')).tolist()\n",
    "df_new1=pd.DataFrame(constraint1,index=df['title'])\n",
    "df_new1=df_new1.stack()\n",
    "df_new1=pd.DataFrame(df_new1.reset_index())\n",
    "df_new1.rename(columns={0:'director'},inplace=True)\n",
    "df_new1.drop(['level_1'],axis=1,inplace=True)\n",
    "df_new1.head()"
   ]
  },
  {
   "cell_type": "code",
   "execution_count": 11,
   "id": "fe62c357",
   "metadata": {},
   "outputs": [
    {
     "data": {
      "text/html": [
       "<div>\n",
       "<style scoped>\n",
       "    .dataframe tbody tr th:only-of-type {\n",
       "        vertical-align: middle;\n",
       "    }\n",
       "\n",
       "    .dataframe tbody tr th {\n",
       "        vertical-align: top;\n",
       "    }\n",
       "\n",
       "    .dataframe thead th {\n",
       "        text-align: right;\n",
       "    }\n",
       "</style>\n",
       "<table border=\"1\" class=\"dataframe\">\n",
       "  <thead>\n",
       "    <tr style=\"text-align: right;\">\n",
       "      <th></th>\n",
       "      <th>title</th>\n",
       "      <th>Actors</th>\n",
       "    </tr>\n",
       "  </thead>\n",
       "  <tbody>\n",
       "    <tr>\n",
       "      <th>0</th>\n",
       "      <td>Dick Johnson Is Dead</td>\n",
       "      <td>nan</td>\n",
       "    </tr>\n",
       "    <tr>\n",
       "      <th>1</th>\n",
       "      <td>Blood &amp; Water</td>\n",
       "      <td>Ama Qamata</td>\n",
       "    </tr>\n",
       "    <tr>\n",
       "      <th>2</th>\n",
       "      <td>Blood &amp; Water</td>\n",
       "      <td>Khosi Ngema</td>\n",
       "    </tr>\n",
       "    <tr>\n",
       "      <th>3</th>\n",
       "      <td>Blood &amp; Water</td>\n",
       "      <td>Gail Mabalane</td>\n",
       "    </tr>\n",
       "    <tr>\n",
       "      <th>4</th>\n",
       "      <td>Blood &amp; Water</td>\n",
       "      <td>Thabang Molaba</td>\n",
       "    </tr>\n",
       "  </tbody>\n",
       "</table>\n",
       "</div>"
      ],
      "text/plain": [
       "                  title          Actors\n",
       "0  Dick Johnson Is Dead             nan\n",
       "1         Blood & Water      Ama Qamata\n",
       "2         Blood & Water     Khosi Ngema\n",
       "3         Blood & Water   Gail Mabalane\n",
       "4         Blood & Water  Thabang Molaba"
      ]
     },
     "execution_count": 11,
     "metadata": {},
     "output_type": "execute_result"
    }
   ],
   "source": [
    "#unnesting the cast column, i.e- creating separate lines for each cast member in a movie\n",
    "constraint2=df['cast'].apply(lambda x: str(x).split(', ')).tolist()\n",
    "df_new2=pd.DataFrame(constraint2,index=df['title'])\n",
    "df_new2=df_new2.stack()\n",
    "df_new2=pd.DataFrame(df_new2.reset_index())\n",
    "df_new2.rename(columns={0:'Actors'},inplace=True)\n",
    "df_new2.drop(['level_1'],axis=1,inplace=True)\n",
    "df_new2.head()"
   ]
  },
  {
   "cell_type": "code",
   "execution_count": 12,
   "id": "5de761ae",
   "metadata": {
    "scrolled": true
   },
   "outputs": [
    {
     "data": {
      "text/html": [
       "<div>\n",
       "<style scoped>\n",
       "    .dataframe tbody tr th:only-of-type {\n",
       "        vertical-align: middle;\n",
       "    }\n",
       "\n",
       "    .dataframe tbody tr th {\n",
       "        vertical-align: top;\n",
       "    }\n",
       "\n",
       "    .dataframe thead th {\n",
       "        text-align: right;\n",
       "    }\n",
       "</style>\n",
       "<table border=\"1\" class=\"dataframe\">\n",
       "  <thead>\n",
       "    <tr style=\"text-align: right;\">\n",
       "      <th></th>\n",
       "      <th>title</th>\n",
       "      <th>Genre</th>\n",
       "    </tr>\n",
       "  </thead>\n",
       "  <tbody>\n",
       "    <tr>\n",
       "      <th>0</th>\n",
       "      <td>Dick Johnson Is Dead</td>\n",
       "      <td>Documentaries</td>\n",
       "    </tr>\n",
       "    <tr>\n",
       "      <th>1</th>\n",
       "      <td>Blood &amp; Water</td>\n",
       "      <td>International TV Shows</td>\n",
       "    </tr>\n",
       "    <tr>\n",
       "      <th>2</th>\n",
       "      <td>Blood &amp; Water</td>\n",
       "      <td>TV Dramas</td>\n",
       "    </tr>\n",
       "    <tr>\n",
       "      <th>3</th>\n",
       "      <td>Blood &amp; Water</td>\n",
       "      <td>TV Mysteries</td>\n",
       "    </tr>\n",
       "    <tr>\n",
       "      <th>4</th>\n",
       "      <td>Ganglands</td>\n",
       "      <td>Crime TV Shows</td>\n",
       "    </tr>\n",
       "  </tbody>\n",
       "</table>\n",
       "</div>"
      ],
      "text/plain": [
       "                  title                   Genre\n",
       "0  Dick Johnson Is Dead           Documentaries\n",
       "1         Blood & Water  International TV Shows\n",
       "2         Blood & Water               TV Dramas\n",
       "3         Blood & Water            TV Mysteries\n",
       "4             Ganglands          Crime TV Shows"
      ]
     },
     "execution_count": 12,
     "metadata": {},
     "output_type": "execute_result"
    }
   ],
   "source": [
    "#unnesting the listed_in column, i.e- creating separate lines for each genre in a movie\n",
    "constraint3=df['listed_in'].apply(lambda x: str(x).split(', ')).tolist()\n",
    "df_new3=pd.DataFrame(constraint3,index=df['title'])\n",
    "df_new3=df_new3.stack()\n",
    "df_new3=pd.DataFrame(df_new3.reset_index())\n",
    "df_new3.rename(columns={0:'Genre'},inplace=True)\n",
    "df_new3.drop(['level_1'],axis=1,inplace=True)\n",
    "df_new3.head()"
   ]
  },
  {
   "cell_type": "code",
   "execution_count": 13,
   "id": "42802844",
   "metadata": {},
   "outputs": [
    {
     "data": {
      "text/html": [
       "<div>\n",
       "<style scoped>\n",
       "    .dataframe tbody tr th:only-of-type {\n",
       "        vertical-align: middle;\n",
       "    }\n",
       "\n",
       "    .dataframe tbody tr th {\n",
       "        vertical-align: top;\n",
       "    }\n",
       "\n",
       "    .dataframe thead th {\n",
       "        text-align: right;\n",
       "    }\n",
       "</style>\n",
       "<table border=\"1\" class=\"dataframe\">\n",
       "  <thead>\n",
       "    <tr style=\"text-align: right;\">\n",
       "      <th></th>\n",
       "      <th>title</th>\n",
       "      <th>country</th>\n",
       "    </tr>\n",
       "  </thead>\n",
       "  <tbody>\n",
       "    <tr>\n",
       "      <th>0</th>\n",
       "      <td>Dick Johnson Is Dead</td>\n",
       "      <td>United States</td>\n",
       "    </tr>\n",
       "    <tr>\n",
       "      <th>1</th>\n",
       "      <td>Blood &amp; Water</td>\n",
       "      <td>South Africa</td>\n",
       "    </tr>\n",
       "    <tr>\n",
       "      <th>2</th>\n",
       "      <td>Ganglands</td>\n",
       "      <td>nan</td>\n",
       "    </tr>\n",
       "    <tr>\n",
       "      <th>3</th>\n",
       "      <td>Jailbirds New Orleans</td>\n",
       "      <td>nan</td>\n",
       "    </tr>\n",
       "    <tr>\n",
       "      <th>4</th>\n",
       "      <td>Kota Factory</td>\n",
       "      <td>India</td>\n",
       "    </tr>\n",
       "  </tbody>\n",
       "</table>\n",
       "</div>"
      ],
      "text/plain": [
       "                   title        country\n",
       "0   Dick Johnson Is Dead  United States\n",
       "1          Blood & Water   South Africa\n",
       "2              Ganglands            nan\n",
       "3  Jailbirds New Orleans            nan\n",
       "4           Kota Factory          India"
      ]
     },
     "execution_count": 13,
     "metadata": {},
     "output_type": "execute_result"
    }
   ],
   "source": [
    "#unnesting the country column, i.e- creating separate lines for each country in a movie\n",
    "constraint4=df['country'].apply(lambda x: str(x).split(', ')).tolist()\n",
    "df_new4=pd.DataFrame(constraint4,index=df['title'])\n",
    "df_new4=df_new4.stack()\n",
    "df_new4=pd.DataFrame(df_new4.reset_index())\n",
    "df_new4.rename(columns={0:'country'},inplace=True)\n",
    "df_new4.drop(['level_1'],axis=1,inplace=True)\n",
    "df_new4.head()"
   ]
  },
  {
   "cell_type": "code",
   "execution_count": 14,
   "id": "9912a89c",
   "metadata": {
    "scrolled": true
   },
   "outputs": [],
   "source": [
    "#merging the unnested director data with unnested actors data\n",
    "dfx=df_new1.merge(df_new2,on=\"title\")"
   ]
  },
  {
   "cell_type": "code",
   "execution_count": 15,
   "id": "3e28b501",
   "metadata": {},
   "outputs": [],
   "source": [
    "#merging the unnested genre data\n",
    "dfx=dfx.merge(df_new3,on=\"title\")"
   ]
  },
  {
   "cell_type": "code",
   "execution_count": 16,
   "id": "6bef9ada",
   "metadata": {},
   "outputs": [],
   "source": [
    "#merging the unnested country data\n",
    "dfx=dfx.merge(df_new4,on=\"title\")"
   ]
  },
  {
   "cell_type": "code",
   "execution_count": 17,
   "id": "ae0ebf7f",
   "metadata": {},
   "outputs": [
    {
     "data": {
      "text/html": [
       "<div>\n",
       "<style scoped>\n",
       "    .dataframe tbody tr th:only-of-type {\n",
       "        vertical-align: middle;\n",
       "    }\n",
       "\n",
       "    .dataframe tbody tr th {\n",
       "        vertical-align: top;\n",
       "    }\n",
       "\n",
       "    .dataframe thead th {\n",
       "        text-align: right;\n",
       "    }\n",
       "</style>\n",
       "<table border=\"1\" class=\"dataframe\">\n",
       "  <thead>\n",
       "    <tr style=\"text-align: right;\">\n",
       "      <th></th>\n",
       "      <th>title</th>\n",
       "      <th>director</th>\n",
       "      <th>Actors</th>\n",
       "      <th>Genre</th>\n",
       "      <th>country</th>\n",
       "    </tr>\n",
       "  </thead>\n",
       "  <tbody>\n",
       "    <tr>\n",
       "      <th>0</th>\n",
       "      <td>Dick Johnson Is Dead</td>\n",
       "      <td>Kirsten Johnson</td>\n",
       "      <td>nan</td>\n",
       "      <td>Documentaries</td>\n",
       "      <td>United States</td>\n",
       "    </tr>\n",
       "    <tr>\n",
       "      <th>1</th>\n",
       "      <td>Blood &amp; Water</td>\n",
       "      <td>nan</td>\n",
       "      <td>Ama Qamata</td>\n",
       "      <td>International TV Shows</td>\n",
       "      <td>South Africa</td>\n",
       "    </tr>\n",
       "    <tr>\n",
       "      <th>2</th>\n",
       "      <td>Blood &amp; Water</td>\n",
       "      <td>nan</td>\n",
       "      <td>Ama Qamata</td>\n",
       "      <td>TV Dramas</td>\n",
       "      <td>South Africa</td>\n",
       "    </tr>\n",
       "    <tr>\n",
       "      <th>3</th>\n",
       "      <td>Blood &amp; Water</td>\n",
       "      <td>nan</td>\n",
       "      <td>Ama Qamata</td>\n",
       "      <td>TV Mysteries</td>\n",
       "      <td>South Africa</td>\n",
       "    </tr>\n",
       "    <tr>\n",
       "      <th>4</th>\n",
       "      <td>Blood &amp; Water</td>\n",
       "      <td>nan</td>\n",
       "      <td>Khosi Ngema</td>\n",
       "      <td>International TV Shows</td>\n",
       "      <td>South Africa</td>\n",
       "    </tr>\n",
       "  </tbody>\n",
       "</table>\n",
       "</div>"
      ],
      "text/plain": [
       "                  title         director       Actors                   Genre  \\\n",
       "0  Dick Johnson Is Dead  Kirsten Johnson          nan           Documentaries   \n",
       "1         Blood & Water              nan   Ama Qamata  International TV Shows   \n",
       "2         Blood & Water              nan   Ama Qamata               TV Dramas   \n",
       "3         Blood & Water              nan   Ama Qamata            TV Mysteries   \n",
       "4         Blood & Water              nan  Khosi Ngema  International TV Shows   \n",
       "\n",
       "         country  \n",
       "0  United States  \n",
       "1   South Africa  \n",
       "2   South Africa  \n",
       "3   South Africa  \n",
       "4   South Africa  "
      ]
     },
     "execution_count": 17,
     "metadata": {},
     "output_type": "execute_result"
    }
   ],
   "source": [
    "dfx.head()"
   ]
  },
  {
   "cell_type": "code",
   "execution_count": 18,
   "id": "25f80259",
   "metadata": {},
   "outputs": [],
   "source": [
    "#merging our unnested data with the original data\n",
    "df_final=df.merge(dfx,how='left',on='title')"
   ]
  },
  {
   "cell_type": "code",
   "execution_count": 19,
   "id": "7cb713fd",
   "metadata": {
    "scrolled": true
   },
   "outputs": [
    {
     "data": {
      "text/html": [
       "<div>\n",
       "<style scoped>\n",
       "    .dataframe tbody tr th:only-of-type {\n",
       "        vertical-align: middle;\n",
       "    }\n",
       "\n",
       "    .dataframe tbody tr th {\n",
       "        vertical-align: top;\n",
       "    }\n",
       "\n",
       "    .dataframe thead th {\n",
       "        text-align: right;\n",
       "    }\n",
       "</style>\n",
       "<table border=\"1\" class=\"dataframe\">\n",
       "  <thead>\n",
       "    <tr style=\"text-align: right;\">\n",
       "      <th></th>\n",
       "      <th>show_id</th>\n",
       "      <th>type</th>\n",
       "      <th>title</th>\n",
       "      <th>director_x</th>\n",
       "      <th>cast</th>\n",
       "      <th>country_x</th>\n",
       "      <th>date_added</th>\n",
       "      <th>release_year</th>\n",
       "      <th>rating</th>\n",
       "      <th>duration</th>\n",
       "      <th>listed_in</th>\n",
       "      <th>description</th>\n",
       "      <th>director_y</th>\n",
       "      <th>Actors</th>\n",
       "      <th>Genre</th>\n",
       "      <th>country_y</th>\n",
       "    </tr>\n",
       "  </thead>\n",
       "  <tbody>\n",
       "    <tr>\n",
       "      <th>0</th>\n",
       "      <td>s1</td>\n",
       "      <td>Movie</td>\n",
       "      <td>Dick Johnson Is Dead</td>\n",
       "      <td>Kirsten Johnson</td>\n",
       "      <td>NaN</td>\n",
       "      <td>United States</td>\n",
       "      <td>September 25, 2021</td>\n",
       "      <td>2020</td>\n",
       "      <td>PG-13</td>\n",
       "      <td>90 min</td>\n",
       "      <td>Documentaries</td>\n",
       "      <td>As her father nears the end of his life, filmm...</td>\n",
       "      <td>Kirsten Johnson</td>\n",
       "      <td>nan</td>\n",
       "      <td>Documentaries</td>\n",
       "      <td>United States</td>\n",
       "    </tr>\n",
       "    <tr>\n",
       "      <th>1</th>\n",
       "      <td>s2</td>\n",
       "      <td>TV Show</td>\n",
       "      <td>Blood &amp; Water</td>\n",
       "      <td>NaN</td>\n",
       "      <td>Ama Qamata, Khosi Ngema, Gail Mabalane, Thaban...</td>\n",
       "      <td>South Africa</td>\n",
       "      <td>September 24, 2021</td>\n",
       "      <td>2021</td>\n",
       "      <td>TV-MA</td>\n",
       "      <td>2 Seasons</td>\n",
       "      <td>International TV Shows, TV Dramas, TV Mysteries</td>\n",
       "      <td>After crossing paths at a party, a Cape Town t...</td>\n",
       "      <td>nan</td>\n",
       "      <td>Ama Qamata</td>\n",
       "      <td>International TV Shows</td>\n",
       "      <td>South Africa</td>\n",
       "    </tr>\n",
       "    <tr>\n",
       "      <th>2</th>\n",
       "      <td>s2</td>\n",
       "      <td>TV Show</td>\n",
       "      <td>Blood &amp; Water</td>\n",
       "      <td>NaN</td>\n",
       "      <td>Ama Qamata, Khosi Ngema, Gail Mabalane, Thaban...</td>\n",
       "      <td>South Africa</td>\n",
       "      <td>September 24, 2021</td>\n",
       "      <td>2021</td>\n",
       "      <td>TV-MA</td>\n",
       "      <td>2 Seasons</td>\n",
       "      <td>International TV Shows, TV Dramas, TV Mysteries</td>\n",
       "      <td>After crossing paths at a party, a Cape Town t...</td>\n",
       "      <td>nan</td>\n",
       "      <td>Ama Qamata</td>\n",
       "      <td>TV Dramas</td>\n",
       "      <td>South Africa</td>\n",
       "    </tr>\n",
       "    <tr>\n",
       "      <th>3</th>\n",
       "      <td>s2</td>\n",
       "      <td>TV Show</td>\n",
       "      <td>Blood &amp; Water</td>\n",
       "      <td>NaN</td>\n",
       "      <td>Ama Qamata, Khosi Ngema, Gail Mabalane, Thaban...</td>\n",
       "      <td>South Africa</td>\n",
       "      <td>September 24, 2021</td>\n",
       "      <td>2021</td>\n",
       "      <td>TV-MA</td>\n",
       "      <td>2 Seasons</td>\n",
       "      <td>International TV Shows, TV Dramas, TV Mysteries</td>\n",
       "      <td>After crossing paths at a party, a Cape Town t...</td>\n",
       "      <td>nan</td>\n",
       "      <td>Ama Qamata</td>\n",
       "      <td>TV Mysteries</td>\n",
       "      <td>South Africa</td>\n",
       "    </tr>\n",
       "    <tr>\n",
       "      <th>4</th>\n",
       "      <td>s2</td>\n",
       "      <td>TV Show</td>\n",
       "      <td>Blood &amp; Water</td>\n",
       "      <td>NaN</td>\n",
       "      <td>Ama Qamata, Khosi Ngema, Gail Mabalane, Thaban...</td>\n",
       "      <td>South Africa</td>\n",
       "      <td>September 24, 2021</td>\n",
       "      <td>2021</td>\n",
       "      <td>TV-MA</td>\n",
       "      <td>2 Seasons</td>\n",
       "      <td>International TV Shows, TV Dramas, TV Mysteries</td>\n",
       "      <td>After crossing paths at a party, a Cape Town t...</td>\n",
       "      <td>nan</td>\n",
       "      <td>Khosi Ngema</td>\n",
       "      <td>International TV Shows</td>\n",
       "      <td>South Africa</td>\n",
       "    </tr>\n",
       "  </tbody>\n",
       "</table>\n",
       "</div>"
      ],
      "text/plain": [
       "  show_id     type                 title       director_x  \\\n",
       "0      s1    Movie  Dick Johnson Is Dead  Kirsten Johnson   \n",
       "1      s2  TV Show         Blood & Water              NaN   \n",
       "2      s2  TV Show         Blood & Water              NaN   \n",
       "3      s2  TV Show         Blood & Water              NaN   \n",
       "4      s2  TV Show         Blood & Water              NaN   \n",
       "\n",
       "                                                cast      country_x  \\\n",
       "0                                                NaN  United States   \n",
       "1  Ama Qamata, Khosi Ngema, Gail Mabalane, Thaban...   South Africa   \n",
       "2  Ama Qamata, Khosi Ngema, Gail Mabalane, Thaban...   South Africa   \n",
       "3  Ama Qamata, Khosi Ngema, Gail Mabalane, Thaban...   South Africa   \n",
       "4  Ama Qamata, Khosi Ngema, Gail Mabalane, Thaban...   South Africa   \n",
       "\n",
       "           date_added  release_year rating   duration  \\\n",
       "0  September 25, 2021          2020  PG-13     90 min   \n",
       "1  September 24, 2021          2021  TV-MA  2 Seasons   \n",
       "2  September 24, 2021          2021  TV-MA  2 Seasons   \n",
       "3  September 24, 2021          2021  TV-MA  2 Seasons   \n",
       "4  September 24, 2021          2021  TV-MA  2 Seasons   \n",
       "\n",
       "                                         listed_in  \\\n",
       "0                                    Documentaries   \n",
       "1  International TV Shows, TV Dramas, TV Mysteries   \n",
       "2  International TV Shows, TV Dramas, TV Mysteries   \n",
       "3  International TV Shows, TV Dramas, TV Mysteries   \n",
       "4  International TV Shows, TV Dramas, TV Mysteries   \n",
       "\n",
       "                                         description       director_y  \\\n",
       "0  As her father nears the end of his life, filmm...  Kirsten Johnson   \n",
       "1  After crossing paths at a party, a Cape Town t...              nan   \n",
       "2  After crossing paths at a party, a Cape Town t...              nan   \n",
       "3  After crossing paths at a party, a Cape Town t...              nan   \n",
       "4  After crossing paths at a party, a Cape Town t...              nan   \n",
       "\n",
       "        Actors                   Genre      country_y  \n",
       "0          nan           Documentaries  United States  \n",
       "1   Ama Qamata  International TV Shows   South Africa  \n",
       "2   Ama Qamata               TV Dramas   South Africa  \n",
       "3   Ama Qamata            TV Mysteries   South Africa  \n",
       "4  Khosi Ngema  International TV Shows   South Africa  "
      ]
     },
     "execution_count": 19,
     "metadata": {},
     "output_type": "execute_result"
    }
   ],
   "source": [
    "df_final.head()"
   ]
  },
  {
   "cell_type": "code",
   "execution_count": 20,
   "id": "97c398e6",
   "metadata": {},
   "outputs": [
    {
     "data": {
      "text/plain": [
       "(201991, 16)"
      ]
     },
     "execution_count": 20,
     "metadata": {},
     "output_type": "execute_result"
    }
   ],
   "source": [
    "df_final.shape"
   ]
  },
  {
   "cell_type": "code",
   "execution_count": 21,
   "id": "1ca9e88c",
   "metadata": {},
   "outputs": [
    {
     "name": "stdout",
     "output_type": "stream",
     "text": [
      "<class 'pandas.core.frame.DataFrame'>\n",
      "Int64Index: 201991 entries, 0 to 201990\n",
      "Data columns (total 16 columns):\n",
      " #   Column        Non-Null Count   Dtype \n",
      "---  ------        --------------   ----- \n",
      " 0   show_id       201991 non-null  object\n",
      " 1   type          201991 non-null  object\n",
      " 2   title         201991 non-null  object\n",
      " 3   director_x    151348 non-null  object\n",
      " 4   cast          199845 non-null  object\n",
      " 5   country_x     190094 non-null  object\n",
      " 6   date_added    201833 non-null  object\n",
      " 7   release_year  201991 non-null  int64 \n",
      " 8   rating        201924 non-null  object\n",
      " 9   duration      201988 non-null  object\n",
      " 10  listed_in     201991 non-null  object\n",
      " 11  description   201991 non-null  object\n",
      " 12  director_y    201991 non-null  object\n",
      " 13  Actors        201991 non-null  object\n",
      " 14  Genre         201991 non-null  object\n",
      " 15  country_y     201991 non-null  object\n",
      "dtypes: int64(1), object(15)\n",
      "memory usage: 26.2+ MB\n"
     ]
    }
   ],
   "source": [
    "df_final.info()"
   ]
  },
  {
   "cell_type": "code",
   "execution_count": 22,
   "id": "f0bb4adb",
   "metadata": {},
   "outputs": [],
   "source": [
    "df_final.drop(columns=['director_x', 'country_x', 'cast', 'listed_in'], axis=1, inplace=True)"
   ]
  },
  {
   "cell_type": "code",
   "execution_count": 23,
   "id": "0dc7a3be",
   "metadata": {},
   "outputs": [
    {
     "data": {
      "text/html": [
       "<div>\n",
       "<style scoped>\n",
       "    .dataframe tbody tr th:only-of-type {\n",
       "        vertical-align: middle;\n",
       "    }\n",
       "\n",
       "    .dataframe tbody tr th {\n",
       "        vertical-align: top;\n",
       "    }\n",
       "\n",
       "    .dataframe thead th {\n",
       "        text-align: right;\n",
       "    }\n",
       "</style>\n",
       "<table border=\"1\" class=\"dataframe\">\n",
       "  <thead>\n",
       "    <tr style=\"text-align: right;\">\n",
       "      <th></th>\n",
       "      <th>show_id</th>\n",
       "      <th>type</th>\n",
       "      <th>title</th>\n",
       "      <th>date_added</th>\n",
       "      <th>release_year</th>\n",
       "      <th>rating</th>\n",
       "      <th>duration</th>\n",
       "      <th>description</th>\n",
       "      <th>director_y</th>\n",
       "      <th>Actors</th>\n",
       "      <th>Genre</th>\n",
       "      <th>country_y</th>\n",
       "    </tr>\n",
       "  </thead>\n",
       "  <tbody>\n",
       "    <tr>\n",
       "      <th>0</th>\n",
       "      <td>s1</td>\n",
       "      <td>Movie</td>\n",
       "      <td>Dick Johnson Is Dead</td>\n",
       "      <td>September 25, 2021</td>\n",
       "      <td>2020</td>\n",
       "      <td>PG-13</td>\n",
       "      <td>90 min</td>\n",
       "      <td>As her father nears the end of his life, filmm...</td>\n",
       "      <td>Kirsten Johnson</td>\n",
       "      <td>nan</td>\n",
       "      <td>Documentaries</td>\n",
       "      <td>United States</td>\n",
       "    </tr>\n",
       "    <tr>\n",
       "      <th>1</th>\n",
       "      <td>s2</td>\n",
       "      <td>TV Show</td>\n",
       "      <td>Blood &amp; Water</td>\n",
       "      <td>September 24, 2021</td>\n",
       "      <td>2021</td>\n",
       "      <td>TV-MA</td>\n",
       "      <td>2 Seasons</td>\n",
       "      <td>After crossing paths at a party, a Cape Town t...</td>\n",
       "      <td>nan</td>\n",
       "      <td>Ama Qamata</td>\n",
       "      <td>International TV Shows</td>\n",
       "      <td>South Africa</td>\n",
       "    </tr>\n",
       "    <tr>\n",
       "      <th>2</th>\n",
       "      <td>s2</td>\n",
       "      <td>TV Show</td>\n",
       "      <td>Blood &amp; Water</td>\n",
       "      <td>September 24, 2021</td>\n",
       "      <td>2021</td>\n",
       "      <td>TV-MA</td>\n",
       "      <td>2 Seasons</td>\n",
       "      <td>After crossing paths at a party, a Cape Town t...</td>\n",
       "      <td>nan</td>\n",
       "      <td>Ama Qamata</td>\n",
       "      <td>TV Dramas</td>\n",
       "      <td>South Africa</td>\n",
       "    </tr>\n",
       "    <tr>\n",
       "      <th>3</th>\n",
       "      <td>s2</td>\n",
       "      <td>TV Show</td>\n",
       "      <td>Blood &amp; Water</td>\n",
       "      <td>September 24, 2021</td>\n",
       "      <td>2021</td>\n",
       "      <td>TV-MA</td>\n",
       "      <td>2 Seasons</td>\n",
       "      <td>After crossing paths at a party, a Cape Town t...</td>\n",
       "      <td>nan</td>\n",
       "      <td>Ama Qamata</td>\n",
       "      <td>TV Mysteries</td>\n",
       "      <td>South Africa</td>\n",
       "    </tr>\n",
       "    <tr>\n",
       "      <th>4</th>\n",
       "      <td>s2</td>\n",
       "      <td>TV Show</td>\n",
       "      <td>Blood &amp; Water</td>\n",
       "      <td>September 24, 2021</td>\n",
       "      <td>2021</td>\n",
       "      <td>TV-MA</td>\n",
       "      <td>2 Seasons</td>\n",
       "      <td>After crossing paths at a party, a Cape Town t...</td>\n",
       "      <td>nan</td>\n",
       "      <td>Khosi Ngema</td>\n",
       "      <td>International TV Shows</td>\n",
       "      <td>South Africa</td>\n",
       "    </tr>\n",
       "  </tbody>\n",
       "</table>\n",
       "</div>"
      ],
      "text/plain": [
       "  show_id     type                 title          date_added  release_year  \\\n",
       "0      s1    Movie  Dick Johnson Is Dead  September 25, 2021          2020   \n",
       "1      s2  TV Show         Blood & Water  September 24, 2021          2021   \n",
       "2      s2  TV Show         Blood & Water  September 24, 2021          2021   \n",
       "3      s2  TV Show         Blood & Water  September 24, 2021          2021   \n",
       "4      s2  TV Show         Blood & Water  September 24, 2021          2021   \n",
       "\n",
       "  rating   duration                                        description  \\\n",
       "0  PG-13     90 min  As her father nears the end of his life, filmm...   \n",
       "1  TV-MA  2 Seasons  After crossing paths at a party, a Cape Town t...   \n",
       "2  TV-MA  2 Seasons  After crossing paths at a party, a Cape Town t...   \n",
       "3  TV-MA  2 Seasons  After crossing paths at a party, a Cape Town t...   \n",
       "4  TV-MA  2 Seasons  After crossing paths at a party, a Cape Town t...   \n",
       "\n",
       "        director_y       Actors                   Genre      country_y  \n",
       "0  Kirsten Johnson          nan           Documentaries  United States  \n",
       "1              nan   Ama Qamata  International TV Shows   South Africa  \n",
       "2              nan   Ama Qamata               TV Dramas   South Africa  \n",
       "3              nan   Ama Qamata            TV Mysteries   South Africa  \n",
       "4              nan  Khosi Ngema  International TV Shows   South Africa  "
      ]
     },
     "execution_count": 23,
     "metadata": {},
     "output_type": "execute_result"
    }
   ],
   "source": [
    "df_final.head()"
   ]
  },
  {
   "cell_type": "code",
   "execution_count": 24,
   "id": "803f6502",
   "metadata": {},
   "outputs": [],
   "source": [
    "new_column_names = {\n",
    "    'director_y': 'director',\n",
    "    'country_y': 'country',\n",
    "    'Actors': 'actor',\n",
    "    'Genre': 'genre'\n",
    "}\n",
    "\n",
    "df_final.rename(columns=new_column_names, inplace=True)"
   ]
  },
  {
   "cell_type": "code",
   "execution_count": 25,
   "id": "7182a706",
   "metadata": {},
   "outputs": [
    {
     "data": {
      "text/html": [
       "<div>\n",
       "<style scoped>\n",
       "    .dataframe tbody tr th:only-of-type {\n",
       "        vertical-align: middle;\n",
       "    }\n",
       "\n",
       "    .dataframe tbody tr th {\n",
       "        vertical-align: top;\n",
       "    }\n",
       "\n",
       "    .dataframe thead th {\n",
       "        text-align: right;\n",
       "    }\n",
       "</style>\n",
       "<table border=\"1\" class=\"dataframe\">\n",
       "  <thead>\n",
       "    <tr style=\"text-align: right;\">\n",
       "      <th></th>\n",
       "      <th>show_id</th>\n",
       "      <th>type</th>\n",
       "      <th>title</th>\n",
       "      <th>date_added</th>\n",
       "      <th>release_year</th>\n",
       "      <th>rating</th>\n",
       "      <th>duration</th>\n",
       "      <th>description</th>\n",
       "      <th>director</th>\n",
       "      <th>actor</th>\n",
       "      <th>genre</th>\n",
       "      <th>country</th>\n",
       "    </tr>\n",
       "  </thead>\n",
       "  <tbody>\n",
       "    <tr>\n",
       "      <th>0</th>\n",
       "      <td>s1</td>\n",
       "      <td>Movie</td>\n",
       "      <td>Dick Johnson Is Dead</td>\n",
       "      <td>September 25, 2021</td>\n",
       "      <td>2020</td>\n",
       "      <td>PG-13</td>\n",
       "      <td>90 min</td>\n",
       "      <td>As her father nears the end of his life, filmm...</td>\n",
       "      <td>Kirsten Johnson</td>\n",
       "      <td>nan</td>\n",
       "      <td>Documentaries</td>\n",
       "      <td>United States</td>\n",
       "    </tr>\n",
       "    <tr>\n",
       "      <th>1</th>\n",
       "      <td>s2</td>\n",
       "      <td>TV Show</td>\n",
       "      <td>Blood &amp; Water</td>\n",
       "      <td>September 24, 2021</td>\n",
       "      <td>2021</td>\n",
       "      <td>TV-MA</td>\n",
       "      <td>2 Seasons</td>\n",
       "      <td>After crossing paths at a party, a Cape Town t...</td>\n",
       "      <td>nan</td>\n",
       "      <td>Ama Qamata</td>\n",
       "      <td>International TV Shows</td>\n",
       "      <td>South Africa</td>\n",
       "    </tr>\n",
       "    <tr>\n",
       "      <th>2</th>\n",
       "      <td>s2</td>\n",
       "      <td>TV Show</td>\n",
       "      <td>Blood &amp; Water</td>\n",
       "      <td>September 24, 2021</td>\n",
       "      <td>2021</td>\n",
       "      <td>TV-MA</td>\n",
       "      <td>2 Seasons</td>\n",
       "      <td>After crossing paths at a party, a Cape Town t...</td>\n",
       "      <td>nan</td>\n",
       "      <td>Ama Qamata</td>\n",
       "      <td>TV Dramas</td>\n",
       "      <td>South Africa</td>\n",
       "    </tr>\n",
       "    <tr>\n",
       "      <th>3</th>\n",
       "      <td>s2</td>\n",
       "      <td>TV Show</td>\n",
       "      <td>Blood &amp; Water</td>\n",
       "      <td>September 24, 2021</td>\n",
       "      <td>2021</td>\n",
       "      <td>TV-MA</td>\n",
       "      <td>2 Seasons</td>\n",
       "      <td>After crossing paths at a party, a Cape Town t...</td>\n",
       "      <td>nan</td>\n",
       "      <td>Ama Qamata</td>\n",
       "      <td>TV Mysteries</td>\n",
       "      <td>South Africa</td>\n",
       "    </tr>\n",
       "    <tr>\n",
       "      <th>4</th>\n",
       "      <td>s2</td>\n",
       "      <td>TV Show</td>\n",
       "      <td>Blood &amp; Water</td>\n",
       "      <td>September 24, 2021</td>\n",
       "      <td>2021</td>\n",
       "      <td>TV-MA</td>\n",
       "      <td>2 Seasons</td>\n",
       "      <td>After crossing paths at a party, a Cape Town t...</td>\n",
       "      <td>nan</td>\n",
       "      <td>Khosi Ngema</td>\n",
       "      <td>International TV Shows</td>\n",
       "      <td>South Africa</td>\n",
       "    </tr>\n",
       "  </tbody>\n",
       "</table>\n",
       "</div>"
      ],
      "text/plain": [
       "  show_id     type                 title          date_added  release_year  \\\n",
       "0      s1    Movie  Dick Johnson Is Dead  September 25, 2021          2020   \n",
       "1      s2  TV Show         Blood & Water  September 24, 2021          2021   \n",
       "2      s2  TV Show         Blood & Water  September 24, 2021          2021   \n",
       "3      s2  TV Show         Blood & Water  September 24, 2021          2021   \n",
       "4      s2  TV Show         Blood & Water  September 24, 2021          2021   \n",
       "\n",
       "  rating   duration                                        description  \\\n",
       "0  PG-13     90 min  As her father nears the end of his life, filmm...   \n",
       "1  TV-MA  2 Seasons  After crossing paths at a party, a Cape Town t...   \n",
       "2  TV-MA  2 Seasons  After crossing paths at a party, a Cape Town t...   \n",
       "3  TV-MA  2 Seasons  After crossing paths at a party, a Cape Town t...   \n",
       "4  TV-MA  2 Seasons  After crossing paths at a party, a Cape Town t...   \n",
       "\n",
       "          director        actor                   genre        country  \n",
       "0  Kirsten Johnson          nan           Documentaries  United States  \n",
       "1              nan   Ama Qamata  International TV Shows   South Africa  \n",
       "2              nan   Ama Qamata               TV Dramas   South Africa  \n",
       "3              nan   Ama Qamata            TV Mysteries   South Africa  \n",
       "4              nan  Khosi Ngema  International TV Shows   South Africa  "
      ]
     },
     "execution_count": 25,
     "metadata": {},
     "output_type": "execute_result"
    }
   ],
   "source": [
    "df_final.head()"
   ]
  },
  {
   "cell_type": "code",
   "execution_count": 26,
   "id": "4034103a",
   "metadata": {},
   "outputs": [
    {
     "data": {
      "text/plain": [
       "(201991, 12)"
      ]
     },
     "execution_count": 26,
     "metadata": {},
     "output_type": "execute_result"
    }
   ],
   "source": [
    "df_final.shape"
   ]
  },
  {
   "cell_type": "code",
   "execution_count": 27,
   "id": "653646bc",
   "metadata": {},
   "outputs": [
    {
     "data": {
      "text/plain": [
       "date_added      158\n",
       "rating           67\n",
       "duration          3\n",
       "show_id           0\n",
       "type              0\n",
       "title             0\n",
       "release_year      0\n",
       "description       0\n",
       "director          0\n",
       "actor             0\n",
       "genre             0\n",
       "country           0\n",
       "dtype: int64"
      ]
     },
     "execution_count": 27,
     "metadata": {},
     "output_type": "execute_result"
    }
   ],
   "source": [
    "#checking null values in every column of our data\n",
    "df_final.isnull().sum().sort_values(ascending=False)"
   ]
  },
  {
   "cell_type": "code",
   "execution_count": 28,
   "id": "fc6e556f",
   "metadata": {
    "scrolled": true
   },
   "outputs": [
    {
     "data": {
      "text/plain": [
       "date_added      1.79\n",
       "rating          0.76\n",
       "duration        0.03\n",
       "show_id         0.00\n",
       "type            0.00\n",
       "title           0.00\n",
       "release_year    0.00\n",
       "description     0.00\n",
       "director        0.00\n",
       "actor           0.00\n",
       "genre           0.00\n",
       "country         0.00\n",
       "dtype: float64"
      ]
     },
     "execution_count": 28,
     "metadata": {},
     "output_type": "execute_result"
    }
   ],
   "source": [
    "#checking null values percentage in every column of our data\n",
    "round(df_final.isnull().sum()/df.shape[0]*100,2).sort_values(ascending=False)"
   ]
  },
  {
   "cell_type": "code",
   "execution_count": 29,
   "id": "ef3a5742",
   "metadata": {},
   "outputs": [],
   "source": [
    "def replace_nan(input_str):\n",
    "    if input_str == \"nan\":\n",
    "        return np.nan\n",
    "    return input_str"
   ]
  },
  {
   "cell_type": "code",
   "execution_count": 30,
   "id": "fabeb62c",
   "metadata": {},
   "outputs": [],
   "source": [
    "df_final[\"director\"]=df_final[\"director\"].apply(replace_nan)"
   ]
  },
  {
   "cell_type": "code",
   "execution_count": 31,
   "id": "c484f063",
   "metadata": {},
   "outputs": [
    {
     "data": {
      "text/plain": [
       "50643"
      ]
     },
     "execution_count": 31,
     "metadata": {},
     "output_type": "execute_result"
    }
   ],
   "source": [
    "df_final[\"director\"].isnull().sum()"
   ]
  },
  {
   "cell_type": "code",
   "execution_count": 32,
   "id": "61601314",
   "metadata": {},
   "outputs": [],
   "source": [
    "df_final[\"actor\"]=df_final[\"actor\"].apply(replace_nan)\n",
    "df_final[\"genre\"]=df_final[\"genre\"].apply(replace_nan)\n",
    "df_final[\"country\"]=df_final[\"country\"].apply(replace_nan)"
   ]
  },
  {
   "cell_type": "code",
   "execution_count": 33,
   "id": "84a9c228",
   "metadata": {},
   "outputs": [
    {
     "data": {
      "text/plain": [
       "2146"
      ]
     },
     "execution_count": 33,
     "metadata": {},
     "output_type": "execute_result"
    }
   ],
   "source": [
    "df_final[\"actor\"].isnull().sum()"
   ]
  },
  {
   "cell_type": "code",
   "execution_count": 34,
   "id": "dac97e5f",
   "metadata": {},
   "outputs": [
    {
     "data": {
      "text/plain": [
       "0"
      ]
     },
     "execution_count": 34,
     "metadata": {},
     "output_type": "execute_result"
    }
   ],
   "source": [
    "df_final[\"genre\"].isnull().sum()"
   ]
  },
  {
   "cell_type": "code",
   "execution_count": 35,
   "id": "e5405b87",
   "metadata": {},
   "outputs": [
    {
     "data": {
      "text/plain": [
       "11897"
      ]
     },
     "execution_count": 35,
     "metadata": {},
     "output_type": "execute_result"
    }
   ],
   "source": [
    "df_final[\"country\"].isnull().sum()"
   ]
  },
  {
   "cell_type": "code",
   "execution_count": 36,
   "id": "7611c458",
   "metadata": {},
   "outputs": [],
   "source": [
    "df_final[\"release_year\"] = df_final[\"release_year\"].astype(int)"
   ]
  },
  {
   "cell_type": "code",
   "execution_count": 37,
   "id": "9d36b211",
   "metadata": {},
   "outputs": [
    {
     "name": "stdout",
     "output_type": "stream",
     "text": [
      "<class 'pandas.core.frame.DataFrame'>\n",
      "Int64Index: 201991 entries, 0 to 201990\n",
      "Data columns (total 12 columns):\n",
      " #   Column        Non-Null Count   Dtype \n",
      "---  ------        --------------   ----- \n",
      " 0   show_id       201991 non-null  object\n",
      " 1   type          201991 non-null  object\n",
      " 2   title         201991 non-null  object\n",
      " 3   date_added    201833 non-null  object\n",
      " 4   release_year  201991 non-null  int32 \n",
      " 5   rating        201924 non-null  object\n",
      " 6   duration      201988 non-null  object\n",
      " 7   description   201991 non-null  object\n",
      " 8   director      151348 non-null  object\n",
      " 9   actor         199845 non-null  object\n",
      " 10  genre         201991 non-null  object\n",
      " 11  country       190094 non-null  object\n",
      "dtypes: int32(1), object(11)\n",
      "memory usage: 19.3+ MB\n"
     ]
    }
   ],
   "source": [
    "df_final.info()"
   ]
  },
  {
   "cell_type": "code",
   "execution_count": 38,
   "id": "7026b54d",
   "metadata": {},
   "outputs": [],
   "source": [
    "df_final[\"duration\"]=df_final[\"duration\"].str.replace(\"min\",\"\")"
   ]
  },
  {
   "cell_type": "code",
   "execution_count": 39,
   "id": "098cd16e",
   "metadata": {},
   "outputs": [],
   "source": [
    "df_final[\"duration\"]=df_final[\"duration\"].str.replace(\"Seasons\",\"\") # Replacing Seasons with empty string\n",
    "df_final[\"duration\"]=df_final[\"duration\"].str.replace(\"Season\",\"\")"
   ]
  },
  {
   "cell_type": "code",
   "execution_count": 40,
   "id": "6b09fd1d",
   "metadata": {},
   "outputs": [
    {
     "data": {
      "text/plain": [
       "3"
      ]
     },
     "execution_count": 40,
     "metadata": {},
     "output_type": "execute_result"
    }
   ],
   "source": [
    "df_final[\"duration\"].isnull().sum()"
   ]
  },
  {
   "cell_type": "code",
   "execution_count": 41,
   "id": "fe855461",
   "metadata": {},
   "outputs": [
    {
     "data": {
      "text/plain": [
       "director        25.07\n",
       "country          5.89\n",
       "actor            1.06\n",
       "date_added       0.08\n",
       "rating           0.03\n",
       "show_id          0.00\n",
       "type             0.00\n",
       "title            0.00\n",
       "release_year     0.00\n",
       "duration         0.00\n",
       "description      0.00\n",
       "genre            0.00\n",
       "dtype: float64"
      ]
     },
     "execution_count": 41,
     "metadata": {},
     "output_type": "execute_result"
    }
   ],
   "source": [
    "round(df_final.isnull().sum()/df_final.shape[0]*100,2).sort_values(ascending=False)"
   ]
  },
  {
   "cell_type": "code",
   "execution_count": 42,
   "id": "358b7f1f",
   "metadata": {},
   "outputs": [],
   "source": [
    "# Replacing \"NaN\" values in country column with \"Unknown_country\"\n",
    "df_final[\"country\"].replace(np.NaN,\"Unknown_country\",inplace=True)  "
   ]
  },
  {
   "cell_type": "code",
   "execution_count": 43,
   "id": "11feb43c",
   "metadata": {},
   "outputs": [],
   "source": [
    "# Replacing \"NaN\" values in director column with \"Unknown_director\"\n",
    "df_final[\"director\"].replace(np.NaN,\"Unknown_director\",inplace=True) "
   ]
  },
  {
   "cell_type": "code",
   "execution_count": 44,
   "id": "f732ec89",
   "metadata": {},
   "outputs": [],
   "source": [
    "# Replacing \"NaN\" values in actor column with \"Unknown_actor\"\n",
    "df_final[\"actor\"].replace(np.NaN,\"Unknown_actor\",inplace=True) "
   ]
  },
  {
   "cell_type": "code",
   "execution_count": 45,
   "id": "7846f556",
   "metadata": {},
   "outputs": [],
   "source": [
    "df_final.dropna(subset=[\"rating\",\"duration\",\"date_added\"],axis=0,inplace=True)"
   ]
  },
  {
   "cell_type": "code",
   "execution_count": 46,
   "id": "381dfc6a",
   "metadata": {},
   "outputs": [
    {
     "data": {
      "text/plain": [
       "show_id         0.0\n",
       "type            0.0\n",
       "title           0.0\n",
       "date_added      0.0\n",
       "release_year    0.0\n",
       "rating          0.0\n",
       "duration        0.0\n",
       "description     0.0\n",
       "director        0.0\n",
       "actor           0.0\n",
       "genre           0.0\n",
       "country         0.0\n",
       "dtype: float64"
      ]
     },
     "execution_count": 46,
     "metadata": {},
     "output_type": "execute_result"
    }
   ],
   "source": [
    "round(df_final.isnull().sum()/df_final.shape[0]*100,2).sort_values(ascending=False)"
   ]
  },
  {
   "cell_type": "code",
   "execution_count": 47,
   "id": "a559ab4f",
   "metadata": {},
   "outputs": [
    {
     "data": {
      "text/html": [
       "<div>\n",
       "<style scoped>\n",
       "    .dataframe tbody tr th:only-of-type {\n",
       "        vertical-align: middle;\n",
       "    }\n",
       "\n",
       "    .dataframe tbody tr th {\n",
       "        vertical-align: top;\n",
       "    }\n",
       "\n",
       "    .dataframe thead th {\n",
       "        text-align: right;\n",
       "    }\n",
       "</style>\n",
       "<table border=\"1\" class=\"dataframe\">\n",
       "  <thead>\n",
       "    <tr style=\"text-align: right;\">\n",
       "      <th></th>\n",
       "      <th>show_id</th>\n",
       "      <th>type</th>\n",
       "      <th>title</th>\n",
       "      <th>date_added</th>\n",
       "      <th>release_year</th>\n",
       "      <th>rating</th>\n",
       "      <th>duration</th>\n",
       "      <th>description</th>\n",
       "      <th>director</th>\n",
       "      <th>actor</th>\n",
       "      <th>genre</th>\n",
       "      <th>country</th>\n",
       "    </tr>\n",
       "  </thead>\n",
       "  <tbody>\n",
       "    <tr>\n",
       "      <th>0</th>\n",
       "      <td>s1</td>\n",
       "      <td>Movie</td>\n",
       "      <td>Dick Johnson Is Dead</td>\n",
       "      <td>September 25, 2021</td>\n",
       "      <td>2020</td>\n",
       "      <td>PG-13</td>\n",
       "      <td>90</td>\n",
       "      <td>As her father nears the end of his life, filmm...</td>\n",
       "      <td>Kirsten Johnson</td>\n",
       "      <td>Unknown_actor</td>\n",
       "      <td>Documentaries</td>\n",
       "      <td>United States</td>\n",
       "    </tr>\n",
       "    <tr>\n",
       "      <th>1</th>\n",
       "      <td>s2</td>\n",
       "      <td>TV Show</td>\n",
       "      <td>Blood &amp; Water</td>\n",
       "      <td>September 24, 2021</td>\n",
       "      <td>2021</td>\n",
       "      <td>TV-MA</td>\n",
       "      <td>2</td>\n",
       "      <td>After crossing paths at a party, a Cape Town t...</td>\n",
       "      <td>Unknown_director</td>\n",
       "      <td>Ama Qamata</td>\n",
       "      <td>International TV Shows</td>\n",
       "      <td>South Africa</td>\n",
       "    </tr>\n",
       "    <tr>\n",
       "      <th>2</th>\n",
       "      <td>s2</td>\n",
       "      <td>TV Show</td>\n",
       "      <td>Blood &amp; Water</td>\n",
       "      <td>September 24, 2021</td>\n",
       "      <td>2021</td>\n",
       "      <td>TV-MA</td>\n",
       "      <td>2</td>\n",
       "      <td>After crossing paths at a party, a Cape Town t...</td>\n",
       "      <td>Unknown_director</td>\n",
       "      <td>Ama Qamata</td>\n",
       "      <td>TV Dramas</td>\n",
       "      <td>South Africa</td>\n",
       "    </tr>\n",
       "    <tr>\n",
       "      <th>3</th>\n",
       "      <td>s2</td>\n",
       "      <td>TV Show</td>\n",
       "      <td>Blood &amp; Water</td>\n",
       "      <td>September 24, 2021</td>\n",
       "      <td>2021</td>\n",
       "      <td>TV-MA</td>\n",
       "      <td>2</td>\n",
       "      <td>After crossing paths at a party, a Cape Town t...</td>\n",
       "      <td>Unknown_director</td>\n",
       "      <td>Ama Qamata</td>\n",
       "      <td>TV Mysteries</td>\n",
       "      <td>South Africa</td>\n",
       "    </tr>\n",
       "    <tr>\n",
       "      <th>4</th>\n",
       "      <td>s2</td>\n",
       "      <td>TV Show</td>\n",
       "      <td>Blood &amp; Water</td>\n",
       "      <td>September 24, 2021</td>\n",
       "      <td>2021</td>\n",
       "      <td>TV-MA</td>\n",
       "      <td>2</td>\n",
       "      <td>After crossing paths at a party, a Cape Town t...</td>\n",
       "      <td>Unknown_director</td>\n",
       "      <td>Khosi Ngema</td>\n",
       "      <td>International TV Shows</td>\n",
       "      <td>South Africa</td>\n",
       "    </tr>\n",
       "  </tbody>\n",
       "</table>\n",
       "</div>"
      ],
      "text/plain": [
       "  show_id     type                 title          date_added  release_year  \\\n",
       "0      s1    Movie  Dick Johnson Is Dead  September 25, 2021          2020   \n",
       "1      s2  TV Show         Blood & Water  September 24, 2021          2021   \n",
       "2      s2  TV Show         Blood & Water  September 24, 2021          2021   \n",
       "3      s2  TV Show         Blood & Water  September 24, 2021          2021   \n",
       "4      s2  TV Show         Blood & Water  September 24, 2021          2021   \n",
       "\n",
       "  rating duration                                        description  \\\n",
       "0  PG-13      90   As her father nears the end of his life, filmm...   \n",
       "1  TV-MA       2   After crossing paths at a party, a Cape Town t...   \n",
       "2  TV-MA       2   After crossing paths at a party, a Cape Town t...   \n",
       "3  TV-MA       2   After crossing paths at a party, a Cape Town t...   \n",
       "4  TV-MA       2   After crossing paths at a party, a Cape Town t...   \n",
       "\n",
       "           director          actor                   genre        country  \n",
       "0   Kirsten Johnson  Unknown_actor           Documentaries  United States  \n",
       "1  Unknown_director     Ama Qamata  International TV Shows   South Africa  \n",
       "2  Unknown_director     Ama Qamata               TV Dramas   South Africa  \n",
       "3  Unknown_director     Ama Qamata            TV Mysteries   South Africa  \n",
       "4  Unknown_director    Khosi Ngema  International TV Shows   South Africa  "
      ]
     },
     "execution_count": 47,
     "metadata": {},
     "output_type": "execute_result"
    }
   ],
   "source": [
    "df_final.head()"
   ]
  },
  {
   "cell_type": "code",
   "execution_count": 48,
   "id": "84d3ce28",
   "metadata": {},
   "outputs": [],
   "source": [
    "movies=df_final['type']==\"movies\""
   ]
  },
  {
   "cell_type": "code",
   "execution_count": 49,
   "id": "ef3ccaf3",
   "metadata": {},
   "outputs": [
    {
     "data": {
      "text/plain": [
       "0         False\n",
       "1         False\n",
       "2         False\n",
       "3         False\n",
       "4         False\n",
       "          ...  \n",
       "201986    False\n",
       "201987    False\n",
       "201988    False\n",
       "201989    False\n",
       "201990    False\n",
       "Name: type, Length: 201763, dtype: bool"
      ]
     },
     "execution_count": 49,
     "metadata": {},
     "output_type": "execute_result"
    }
   ],
   "source": [
    "movies"
   ]
  },
  {
   "cell_type": "code",
   "execution_count": 50,
   "id": "91cc5767",
   "metadata": {},
   "outputs": [
    {
     "ename": "AttributeError",
     "evalue": "'function' object has no attribute 'sum'",
     "output_type": "error",
     "traceback": [
      "\u001b[1;31m---------------------------------------------------------------------------\u001b[0m",
      "\u001b[1;31mAttributeError\u001b[0m                            Traceback (most recent call last)",
      "\u001b[1;32m~\\AppData\\Local\\Temp\\ipykernel_3296\\4172699504.py\u001b[0m in \u001b[0;36m<module>\u001b[1;34m\u001b[0m\n\u001b[0;32m      1\u001b[0m \u001b[1;31m# Remove duplicated rows from the DataFrame\u001b[0m\u001b[1;33m\u001b[0m\u001b[1;33m\u001b[0m\u001b[0m\n\u001b[1;32m----> 2\u001b[1;33m \u001b[0mdf_final\u001b[0m\u001b[1;33m.\u001b[0m\u001b[0mduplicated\u001b[0m\u001b[1;33m.\u001b[0m\u001b[0msum\u001b[0m\u001b[1;33m(\u001b[0m\u001b[1;33m)\u001b[0m\u001b[1;33m\u001b[0m\u001b[1;33m\u001b[0m\u001b[0m\n\u001b[0m\u001b[0;32m      3\u001b[0m \u001b[1;33m\u001b[0m\u001b[0m\n\u001b[0;32m      4\u001b[0m \u001b[1;33m\u001b[0m\u001b[0m\n",
      "\u001b[1;31mAttributeError\u001b[0m: 'function' object has no attribute 'sum'"
     ]
    }
   ],
   "source": [
    "# Remove duplicated rows from the DataFrame\n",
    "df_final.duplicated.sum()"
   ]
  },
  {
   "cell_type": "code",
   "execution_count": null,
   "id": "6d5ba6bf",
   "metadata": {},
   "outputs": [],
   "source": []
  },
  {
   "cell_type": "code",
   "execution_count": null,
   "id": "fa25b0b5",
   "metadata": {},
   "outputs": [],
   "source": [
    "#Uni-variate Analysis"
   ]
  },
  {
   "cell_type": "code",
   "execution_count": null,
   "id": "315235f8",
   "metadata": {
    "scrolled": true
   },
   "outputs": [],
   "source": [
    "df_final.head()"
   ]
  },
  {
   "cell_type": "code",
   "execution_count": null,
   "id": "6e40720c",
   "metadata": {},
   "outputs": [],
   "source": [
    "df_final.nunique()"
   ]
  },
  {
   "cell_type": "code",
   "execution_count": null,
   "id": "40645156",
   "metadata": {},
   "outputs": [],
   "source": []
  },
  {
   "cell_type": "code",
   "execution_count": null,
   "id": "31d9a569",
   "metadata": {},
   "outputs": [],
   "source": []
  },
  {
   "cell_type": "code",
   "execution_count": null,
   "id": "ecab89e1",
   "metadata": {},
   "outputs": [],
   "source": [
    " df_type=df_final.groupby(['type']).agg({\"title\":\"nunique\"}).reset_index()\n",
    " plt.pie(df_type['title'],explode=(0.05,0.05), labels=df_type['type'],autopct='%.1f%%')\n",
    " plt.show()"
   ]
  },
  {
   "cell_type": "code",
   "execution_count": null,
   "id": "7dd6585d",
   "metadata": {},
   "outputs": [],
   "source": [
    "#We have 70:30 ratio of Movies and TV Shows in our data"
   ]
  },
  {
   "cell_type": "code",
   "execution_count": null,
   "id": "2a7a3f50",
   "metadata": {
    "scrolled": true
   },
   "outputs": [],
   "source": [
    "#date added\n",
    "index=np.array(movies_release_in_same_year[\"date_added\"].value_counts().index)\n",
    "sorted_index=np.sort(index)\n",
    "sorted_index"
   ]
  },
  {
   "cell_type": "code",
   "execution_count": null,
   "id": "c798d33b",
   "metadata": {},
   "outputs": [],
   "source": []
  },
  {
   "cell_type": "code",
   "execution_count": null,
   "id": "f40c078d",
   "metadata": {},
   "outputs": [],
   "source": [
    "# Create a histogram of the release years\n",
    "plt.figure(figsize=(10, 6))\n",
    "plt.hist(df_final['release_year'], bins=20, color='skyblue', edgecolor='black')\n",
    "plt.title('Distribution of Release Years')\n",
    "plt.xlabel('Release Year')\n",
    "plt.ylabel('Number of Titles')\n",
    "plt.grid(axis='y', alpha=0.75)\n",
    "plt.tight_layout()\n",
    "plt.show()"
   ]
  },
  {
   "cell_type": "code",
   "execution_count": null,
   "id": "126ce8ad",
   "metadata": {},
   "outputs": [],
   "source": [
    "# Create a KDE plot with a rug plot\n",
    "plt.figure(figsize=(10, 6))\n",
    "sns.kdeplot(data=df_final, x='release_year', fill=True, palette='viridis')\n",
    "plt.title('Distribution of Release Years')\n",
    "plt.xlabel('Release Year')\n",
    "plt.ylabel('Density')\n",
    "plt.tight_layout()\n",
    "plt.show()"
   ]
  },
  {
   "cell_type": "code",
   "execution_count": null,
   "id": "34a26759",
   "metadata": {},
   "outputs": [],
   "source": [
    "#6- Rating\n",
    "# Calculate frequency counts of each rating\n",
    "rating_counts = df_final['rating'].value_counts()\n",
    "\n",
    "# Create a bar plot using Seaborn\n",
    "plt.figure(figsize=(8, 6))\n",
    "sns.set_style(\"whitegrid\")\n",
    "plot = sns.barplot(x=rating_counts.index, y=rating_counts.values, palette=\"viridis\")\n",
    "plt.title(\"Distribution of Ratings\")\n",
    "plt.xlabel(\"Rating\")\n",
    "plt.ylabel(\"Frequency\")\n",
    "plt.xticks(rotation=45)\n",
    "\n",
    "# Annotate the count values on the bars\n",
    "for index, value in enumerate(rating_counts):\n",
    "    plot.text(index, value, str(value), ha='center', va='bottom', fontsize=10)\n",
    "\n",
    "plt.tight_layout()\n",
    "plt.show()\n"
   ]
  },
  {
   "cell_type": "code",
   "execution_count": null,
   "id": "bccb205c",
   "metadata": {},
   "outputs": [],
   "source": [
    "#7- Duration"
   ]
  },
  {
   "cell_type": "code",
   "execution_count": null,
   "id": "26539ac9",
   "metadata": {},
   "outputs": [],
   "source": [
    "# Summary statistics\n",
    "summary_stats = df_final['duration'].describe()\n",
    "print(\"Summary Statistics for Duration:\\n\", summary_stats)"
   ]
  },
  {
   "cell_type": "code",
   "execution_count": null,
   "id": "26006fc2",
   "metadata": {},
   "outputs": [],
   "source": []
  },
  {
   "cell_type": "code",
   "execution_count": null,
   "id": "05312177",
   "metadata": {},
   "outputs": [],
   "source": [
    "#8- Description"
   ]
  },
  {
   "cell_type": "code",
   "execution_count": null,
   "id": "9382b940",
   "metadata": {},
   "outputs": [],
   "source": []
  },
  {
   "cell_type": "code",
   "execution_count": null,
   "id": "b0a9034c",
   "metadata": {},
   "outputs": [],
   "source": [
    "#9- Director\n",
    "df_final[\"director\"].value_counts().head(10)"
   ]
  },
  {
   "cell_type": "code",
   "execution_count": null,
   "id": "48fdb4db",
   "metadata": {},
   "outputs": [],
   "source": []
  },
  {
   "cell_type": "code",
   "execution_count": null,
   "id": "b48ba9fa",
   "metadata": {},
   "outputs": [],
   "source": [
    "#10- actor"
   ]
  },
  {
   "cell_type": "code",
   "execution_count": null,
   "id": "72dc65c7",
   "metadata": {},
   "outputs": [],
   "source": [
    "\n",
    "# Perform univariate analysis on the \"actor\" column\n",
    "actor_counts = df_final['actor'].value_counts()\n",
    "actor_counts.plot(kind='bar', figsize=(10, 6), title='Actor Counts')"
   ]
  },
  {
   "cell_type": "code",
   "execution_count": null,
   "id": "bb84cc3e",
   "metadata": {},
   "outputs": [],
   "source": [
    "#11- Genre\n",
    "#number of distinct titles on the basis of genre\n",
    "df_final.groupby(['genre']).agg({\"title\":\"nunique\"})"
   ]
  },
  {
   "cell_type": "code",
   "execution_count": null,
   "id": "cb26fab5",
   "metadata": {},
   "outputs": [],
   "source": [
    "df_genre=df_final.groupby(['genre']).agg({\"title\":\"nunique\"}).reset_index().sort_values(by=['title'],ascending=False)[:15]\n",
    "plt.figure(figsize=(15,8))\n",
    "plt.barh(df_genre[::-1]['genre'], df_genre[::-1]['title'])\n",
    "plt.xlabel('Frequency of Genres')\n",
    "plt.ylabel('Genres')\n",
    "plt.show()"
   ]
  },
  {
   "cell_type": "code",
   "execution_count": null,
   "id": "9e8e5470",
   "metadata": {},
   "outputs": [],
   "source": [
    "#country"
   ]
  },
  {
   "cell_type": "code",
   "execution_count": null,
   "id": "b4bb71fa",
   "metadata": {},
   "outputs": [],
   "source": []
  }
 ],
 "metadata": {
  "kernelspec": {
   "display_name": "Python 3 (ipykernel)",
   "language": "python",
   "name": "python3"
  },
  "language_info": {
   "codemirror_mode": {
    "name": "ipython",
    "version": 3
   },
   "file_extension": ".py",
   "mimetype": "text/x-python",
   "name": "python",
   "nbconvert_exporter": "python",
   "pygments_lexer": "ipython3",
   "version": "3.9.13"
  }
 },
 "nbformat": 4,
 "nbformat_minor": 5
}
